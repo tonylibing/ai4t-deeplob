{
 "cells": [
  {
   "cell_type": "code",
   "execution_count": 35,
   "outputs": [],
   "source": [
    "import os\n",
    "from typing import Dict, Tuple\n",
    "\n",
    "import numpy as np\n",
    "import torch\n",
    "from numpy.lib.stride_tricks import sliding_window_view\n",
    "from torch import nn\n",
    "from torch.utils.data import Dataset"
   ],
   "metadata": {
    "collapsed": false,
    "pycharm": {
     "name": "#%%\n"
    }
   }
  },
  {
   "cell_type": "markdown",
   "source": [
    "# Download data"
   ],
   "metadata": {
    "collapsed": false,
    "pycharm": {
     "name": "#%% md\n"
    }
   }
  },
  {
   "cell_type": "code",
   "execution_count": 30,
   "outputs": [],
   "source": [
    "if not all(\n",
    "    os.path.isfile(path) for path in [\"data/train.txt\", \"data/val.txt\", \"test.txt\"]\n",
    "):\n",
    "    # data paths\n",
    "    train_path = \"data/Train_Dst_NoAuction_DecPre_CF_7.txt\"\n",
    "    test_paths = [\n",
    "        \"data/Test_Dst_NoAuction_DecPre_CF_7.txt\",\n",
    "        \"data/Test_Dst_NoAuction_DecPre_CF_8.txt\",\n",
    "        \"data/Test_Dst_NoAuction_DecPre_CF_9.txt\",\n",
    "    ]\n",
    "\n",
    "    # download data\n",
    "    if not os.path.isfile(\"data/data.zip\"):\n",
    "        !wget \"https://raw.githubusercontent.com/zcakhaa/DeepLOB-Deep-Convolutional-Neural-Networks-for-Limit-Order-Books/master/data/data.zip\" -P data/\n",
    "        !unzip -n data/data.zip -d data/\n",
    "\n",
    "    # load training + validation data\n",
    "    train_val_data = np.loadtxt(train_path, unpack=True)\n",
    "\n",
    "    # split into train and validation\n",
    "    train_slice = slice(0, int(0.8 * train_val_data.shape[0]))\n",
    "    val_slice = slice(int(0.8 * train_val_data.shape[0]), train_val_data.shape[0])\n",
    "\n",
    "    train_data = train_val_data[train_slice, :]\n",
    "    val_data = train_val_data[val_slice, :]\n",
    "\n",
    "    # load test data\n",
    "    test_data = np.concatenate([np.loadtxt(path, unpack=True) for path in test_paths])\n",
    "\n",
    "    # save train, val, test data to single\n",
    "    np.savetxt(\"data/train.txt\", train_data.T)\n",
    "    np.savetxt(\"data/val.txt\", val_data.T)\n",
    "    np.savetxt(\"data/test.txt\", test_data.T)\n",
    "\n",
    "else:\n",
    "    # data paths\n",
    "    train_path = \"data/train.txt\"\n",
    "    val_path = \"data/val.txt\"\n",
    "    test_path = \"data/test.txt\"\n",
    "\n",
    "    # load train, val, test data\n",
    "    train_data = np.loadtxt(train_path)\n",
    "    val_data = np.loadtxt(val_path)\n",
    "    test_data = np.loadtxt(test_path)"
   ],
   "metadata": {
    "collapsed": false,
    "pycharm": {
     "name": "#%%\n"
    }
   }
  },
  {
   "cell_type": "code",
   "execution_count": 31,
   "outputs": [
    {
     "data": {
      "text/plain": "((203800, 149), (50950, 149), (139587, 149))"
     },
     "execution_count": 31,
     "metadata": {},
     "output_type": "execute_result"
    }
   ],
   "source": [
    "train_data.shape, val_data.shape, test_data.shape"
   ],
   "metadata": {
    "collapsed": false,
    "pycharm": {
     "name": "#%%\n"
    }
   }
  },
  {
   "cell_type": "code",
   "execution_count": 65,
   "outputs": [],
   "source": [
    "class LobDataset(Dataset):\n",
    "    def __init__(\n",
    "        self,\n",
    "        data: np.ndarray,\n",
    "        window_length: int = 100,\n",
    "        prediction_horizon_index: int = 4,\n",
    "    ) -> None:\n",
    "        super(LobDataset, self).__init__()\n",
    "        # As input, we select the first 40 columns. These are the first 10 levels\n",
    "        # of the orderbook, containing price and volume for both bid and ask\n",
    "        input_data = data[:, :40]\n",
    "        # As labels, we select the last 5 columns of the orderbook.\n",
    "        # The labels are (1, 2, 3), which respectively represent\n",
    "        # (positive percentage change, stationary, negative percentage change).\n",
    "        labels = data[:, -5:]\n",
    "        # Make the labels start from 0\n",
    "        labels -= 1\n",
    "\n",
    "        # Each of the 5 column of the labels represents\n",
    "        # a different prediction horizon (i.e., 1, 2, 3, 5, 10).\n",
    "        # We keep just one of those\n",
    "        labels = labels[:, prediction_horizon_index]\n",
    "\n",
    "        # Split the input data in windows of length `window_length`,\n",
    "        # and trim the first `window_length` elements of the labels\n",
    "        input_windows, labels_trimmed = self.sliding_window_data(\n",
    "            input_data, labels, window_length\n",
    "        )\n",
    "\n",
    "        # Cast np arrays into tensors and add one dimension to input to account for convolutions\n",
    "        self.input_windows = torch.tensor(input_windows, dtype=torch.float).unsqueeze(1)\n",
    "        self.labels = torch.tensor(labels_trimmed, dtype=torch.float)\n",
    "\n",
    "    def __len__(self) -> int:\n",
    "        return self.input_windows.shape[0]\n",
    "\n",
    "    def __getitem__(self, idx: int) -> Dict[str, torch.Tensor]:\n",
    "        return {\"input\": self.input_windows[idx], \"labels\": self.labels[idx]}\n",
    "\n",
    "    @staticmethod\n",
    "    def sliding_window_data(\n",
    "        input_data: np.ndarray, labels: np.ndarray, window_length: int\n",
    "    ) -> Tuple[np.ndarray, np.ndarray]:\n",
    "        input_data = np.array(input_data)\n",
    "        labels = np.array(labels)\n",
    "        input_windows = sliding_window_view(\n",
    "            input_data, window_length, axis=0\n",
    "        ).transpose((0, 2, 1))\n",
    "        labels_trimmed = labels[window_length - 1 :]\n",
    "        return input_windows, labels_trimmed"
   ],
   "metadata": {
    "collapsed": false,
    "pycharm": {
     "name": "#%%\n"
    }
   }
  },
  {
   "cell_type": "markdown",
   "source": [
    "# Model"
   ],
   "metadata": {
    "collapsed": false,
    "pycharm": {
     "name": "#%% md\n"
    }
   }
  },
  {
   "cell_type": "code",
   "execution_count": 93,
   "outputs": [],
   "source": [
    "class ConvolutionBlock(nn.Module):\n",
    "    def __init__(self, in_channels: int, out_channels: int) -> None:\n",
    "        super(ConvolutionBlock, self).__init__()\n",
    "\n",
    "        self.conv_block = nn.Sequential(\n",
    "            nn.Conv2d(in_channels, out_channels, (1, 2), (1, 2)),\n",
    "            nn.LeakyReLU(0.01),\n",
    "            nn.Conv2d(out_channels, out_channels, (4, 1), padding=\"same\"),\n",
    "            nn.LeakyReLU(0.01),\n",
    "            nn.Conv2d(out_channels, out_channels, (4, 1), padding=\"same\"),\n",
    "            nn.LeakyReLU(0.01),\n",
    "        )\n",
    "\n",
    "    def forward(self, x: torch.Tensor) -> torch.Tensor:\n",
    "        return self.conv_block(x)\n",
    "\n",
    "\n",
    "class InceptionBlock(nn.Module):\n",
    "    def __init__(self, in_channels: int, out_channels: int) -> None:\n",
    "        super(InceptionBlock, self).__init__()\n",
    "\n",
    "        self.block1 = nn.Sequential(\n",
    "            nn.Conv2d(in_channels, out_channels, (1, 1), padding=\"same\"),\n",
    "            nn.LeakyReLU(0.01),\n",
    "            nn.Conv2d(out_channels, out_channels, (3, 1), padding=\"same\"),\n",
    "            nn.LeakyReLU(0.01),\n",
    "        )\n",
    "        self.block2 = nn.Sequential(\n",
    "            nn.Conv2d(in_channels, out_channels, (1, 1), padding=\"same\"),\n",
    "            nn.LeakyReLU(0.01),\n",
    "            nn.Conv2d(out_channels, out_channels, (5, 1), padding=\"same\"),\n",
    "            nn.LeakyReLU(0.01),\n",
    "        )\n",
    "        self.block3 = nn.Sequential(\n",
    "            nn.MaxPool2d((3, 1), stride=(1, 1), padding=(1, 0)),\n",
    "            nn.Conv2d(in_channels, out_channels, (1, 1), padding=\"same\"),\n",
    "            nn.LeakyReLU(0.01),\n",
    "        )\n",
    "\n",
    "    def forward(self, x: torch.Tensor) -> torch.Tensor:\n",
    "        out_1 = self.block1(x)\n",
    "        out_2 = self.block2(x)\n",
    "        out_3 = self.block3(x)\n",
    "\n",
    "        return torch.cat((out_1, out_2, out_3), dim=1)\n",
    "\n",
    "\n",
    "class DeepLOB(nn.Module):\n",
    "    def __init__(self, num_classes: int = 3) -> None:\n",
    "        super(DeepLOB, self).__init__()\n",
    "\n",
    "        # convolution blocks\n",
    "        self.conv_block1 = ConvolutionBlock(1, 32)\n",
    "        self.conv_block2 = ConvolutionBlock(32, 32)\n",
    "\n",
    "        # convolution block 3 is not standard\n",
    "        self.conv_block3 = self.conv_block = nn.Sequential(\n",
    "            nn.Conv2d(32, 32, (1, 10)),\n",
    "            nn.LeakyReLU(0.01),\n",
    "            nn.Conv2d(32, 32, (4, 1), padding=\"same\"),\n",
    "            nn.LeakyReLU(0.01),\n",
    "            nn.Conv2d(32, 32, (4, 1), padding=\"same\"),\n",
    "            nn.LeakyReLU(0.01),\n",
    "        )\n",
    "\n",
    "        # inception block\n",
    "        self.inception_block = InceptionBlock(32, 64)\n",
    "\n",
    "        # lstm layer\n",
    "        self.lstm = nn.LSTM(input_size=192, hidden_size=64, batch_first=True)\n",
    "        self.fc1 = nn.Linear(64, num_classes)\n",
    "\n",
    "    def forward(self, x: torch.Tensor) -> torch.Tensor:\n",
    "        # conv blocks\n",
    "        out = self.conv_block1(x)\n",
    "\n",
    "        out = self.conv_block2(out)\n",
    "        out = self.conv_block3(out)\n",
    "\n",
    "        # inception block\n",
    "        out = self.inception_block(out)\n",
    "\n",
    "        # reshape data to feed lstm\n",
    "        out = out.permute(0, 2, 1, 3)\n",
    "        out = out.reshape(-1, out.shape[1], out.shape[2])\n",
    "\n",
    "        # use lstm and take last item\n",
    "        out, _ = self.lstm(out)\n",
    "        out = out[:, -1, :]\n",
    "\n",
    "        # linear and softmax to output probabilities\n",
    "        out = self.fc1(out)\n",
    "\n",
    "        return torch.softmax(out, dim=1)"
   ],
   "metadata": {
    "collapsed": false,
    "pycharm": {
     "name": "#%%\n"
    }
   }
  }
 ],
 "metadata": {
  "kernelspec": {
   "display_name": "Python 3",
   "language": "python",
   "name": "python3"
  },
  "language_info": {
   "codemirror_mode": {
    "name": "ipython",
    "version": 2
   },
   "file_extension": ".py",
   "mimetype": "text/x-python",
   "name": "python",
   "nbconvert_exporter": "python",
   "pygments_lexer": "ipython2",
   "version": "2.7.6"
  }
 },
 "nbformat": 4,
 "nbformat_minor": 0
}